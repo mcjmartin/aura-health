{
 "cells": [
  {
   "cell_type": "code",
   "execution_count": 7,
   "id": "3459e103",
   "metadata": {},
   "outputs": [
    {
     "name": "stdout",
     "output_type": "stream",
     "text": [
      "Student: Hello, I'm feeling really stressed about my upcoming exams and I don't know how to cope.\n",
      "\n",
      "Aura: It sounds like you’re feeling stressed. Have you tried taking a short break or doing some breathing exercises?\n"
     ]
    }
   ],
   "source": [
    "# Define your custom chatbot class\n",
    "class AuraBot:\n",
    "    def __init__(self):\n",
    "        # You can initialize with any data, knowledge base, etc.\n",
    "        self.responses = {\n",
    "            \"stress\": \"It sounds like you’re feeling stressed. Have you tried taking a short break or doing some breathing exercises?\",\n",
    "            \"exam\": \"Exams can be overwhelming, but preparing a study schedule can really help you feel more in control.\",\n",
    "            \"default\": \"I'm here to listen. Tell me more about what’s on your mind.\"\n",
    "        }\n",
    "\n",
    "    def get_response(self, message):\n",
    "        # Simple keyword-based logic for demonstration\n",
    "        message = message.lower()\n",
    "        if \"stress\" in message or \"stressed\" in message:\n",
    "            return self.responses[\"stress\"]\n",
    "        elif \"exam\" in message or \"exams\" in message:\n",
    "            return self.responses[\"exam\"]\n",
    "        else:\n",
    "            return self.responses[\"default\"]\n",
    "\n",
    "# Create an instance of your bot\n",
    "aura_bot = AuraBot()\n",
    "\n",
    "# Define the chat function\n",
    "def chat_with_aura(message):\n",
    "    return aura_bot.get_response(message)\n",
    "\n",
    "# Test it\n",
    "test_message = \"Hello, I'm feeling really stressed about my upcoming exams and I don't know how to cope.\"\n",
    "print(f\"Student: {test_message}\")\n",
    "print(\"\\nAura:\", chat_with_aura(test_message))\n"
   ]
  },
  {
   "cell_type": "code",
   "execution_count": 10,
   "id": "21c37cb9",
   "metadata": {},
   "outputs": [
    {
     "name": "stdout",
     "output_type": "stream",
     "text": [
      "Student: Hello, I'm feeling really stressed about my upcoming exams and I don't know how to cope.\n",
      "\n",
      "Aura: Hello! I’m really glad you reached out. It’s completely normal to feel stressed before exams; many students experience this. Let’s take a moment to breathe and ease that tension. \n",
      "\n",
      "How about we start by focusing on what you can control? Studying in a structured way, taking regular breaks, and practicing self-care can really help. Have you found any particular study techniques that work for you? Or would you like tips on managing your time and anxiety?\n"
     ]
    }
   ],
   "source": [
    "from openai import OpenAI\n",
    "from dotenv import load_dotenv\n",
    "import os\n",
    "\n",
    "# Load your .env file\n",
    "load_dotenv()\n",
    "\n",
    "# Initialize the OpenAI client\n",
    "client = OpenAI(api_key=os.getenv(\"OPENAI_API_KEY\"))\n",
    "\n",
    "# Define your AuraBot class\n",
    "class AuraBot:\n",
    "    def __init__(self, model=\"gpt-4o-mini\"):\n",
    "        self.model = model\n",
    "\n",
    "    def get_response(self, message):\n",
    "        # Send the user's message to ChatGPT\n",
    "        response = client.chat.completions.create(\n",
    "            model=self.model,\n",
    "            messages=[\n",
    "                {\"role\": \"system\", \"content\": \"You are Aura, a warm, empathetic chatbot who helps students manage stress and anxiety.\"},\n",
    "                {\"role\": \"user\", \"content\": message}\n",
    "            ]\n",
    "        )\n",
    "        # Return the model’s reply\n",
    "        return response.choices[0].message.content.strip()\n",
    "\n",
    "# Create your Aura bot\n",
    "aura_bot = AuraBot()\n",
    "\n",
    "# Define the chat function\n",
    "def chat_with_aura(message):\n",
    "    return aura_bot.get_response(message)\n",
    "\n",
    "# Test it\n",
    "test_message = \"Hello, I'm feeling really stressed about my upcoming exams and I don't know how to cope.\"\n",
    "print(f\"Student: {test_message}\")\n",
    "print(\"\\nAura:\", chat_with_aura(test_message))\n"
   ]
  },
  {
   "cell_type": "markdown",
   "id": "c9e1aa6b",
   "metadata": {},
   "source": []
  },
  {
   "cell_type": "code",
   "execution_count": 12,
   "id": "05833e56",
   "metadata": {},
   "outputs": [
    {
     "name": "stdout",
     "output_type": "stream",
     "text": [
      "Student: What's a good way to manage anxiety before an exam?\n",
      "\n",
      "Aura: It's completely normal to feel anxious before an exam! Here are some effective strategies to help manage that anxiety:\n",
      "\n",
      "1. **Preparation**: Start by reviewing your materials well in advance. Create a study schedule to break down the content into manageable chunks. The more prepared you feel, the more confident you’ll be.\n",
      "\n",
      "2. **Practice Relaxation Techniques**: Deep breathing exercises, mindfulness meditation, or progressive muscle relaxation can help calm your mind. For example, try inhaling deeply through your nose for a count of four, holding for four, and exhaling slowly for a count of six.\n",
      "\n",
      "3. **Stay Positive**: Practice positive self-talk. Remind yourself of your hard work and preparation. Affirmations like “I am capable” can shift your mindset from worry to confidence.\n",
      "\n",
      "4. **Healthy Routine**: Make sure you’re eating nutritious meals, getting enough sleep, and incorporating physical activity into your routine. These elements can greatly affect your mood and stress levels.\n",
      "\n",
      "5. **Visualization**: Take a moment to visualize yourself successfully sitting and completing your exam. This mental practice can help reduce anxiety and build confidence.\n",
      "\n",
      "6. **Limit Caffeine and Sugar**: These can increase anxiety levels, so try to reduce your intake, especially close to exam time.\n",
      "\n",
      "7. **Take Breaks**: Study breaks are crucial. Step away from your materials, take a walk, or listen to relaxing music to help refresh your mind.\n",
      "\n",
      "8. **Talk About It**: Sometimes just sharing your feelings with a friend, family member, or teacher can lighten the load. They may offer support or strategies that have worked for them.\n",
      "\n",
      "9. **Arrive Early**: On the day of the exam, try to arrive a little early to get settled. Rushing can increase anxiety, so give yourself time to breathe and get comfortable.\n",
      "\n",
      "10. **Focus on the Present**: When you start to feel overwhelmed, bring your attention back to the present moment. Focus on your breathing or the task at hand, rather than getting caught up in what could go wrong.\n",
      "\n",
      "You’ve got this! Remember, it’s okay to feel nervous, but there are plenty of tools you can use to navigate this challenging time. If you're feeling really overwhelmed, don't hesitate to reach out for support.\n"
     ]
    }
   ],
   "source": [
    "from openai import OpenAI\n",
    "from dotenv import load_dotenv\n",
    "import os\n",
    "\n",
    "# Load your .env file (make sure OPENAI_API_KEY is set there)\n",
    "load_dotenv()\n",
    "\n",
    "# Initialize the OpenAI client\n",
    "client = OpenAI(api_key=os.getenv(\"OPENAI_API_KEY\"))\n",
    "\n",
    "# Define AuraBot\n",
    "class AuraBot:\n",
    "    def __init__(self, model=\"gpt-4o-mini\"):\n",
    "        self.model = model\n",
    "\n",
    "    def get_response(self, message):\n",
    "        # Send user's message to ChatGPT\n",
    "        response = client.chat.completions.create(\n",
    "            model=self.model,\n",
    "            messages=[\n",
    "                {\"role\": \"system\", \"content\": \"You are Aura, a warm, empathetic chatbot who helps students manage stress and anxiety.\"},\n",
    "                {\"role\": \"user\", \"content\": message}\n",
    "            ]\n",
    "        )\n",
    "        return response.choices[0].message.content.strip()\n",
    "\n",
    "# Create Aura bot instance\n",
    "aura_bot = AuraBot()\n",
    "\n",
    "# Chat function\n",
    "def chat_with_aura(message):\n",
    "    return aura_bot.get_response(message)\n",
    "\n",
    "# Ask a random question\n",
    "test_message = \"What's a good way to manage anxiety before an exam?\"\n",
    "print(f\"Student: {test_message}\")\n",
    "print(\"\\nAura:\", chat_with_aura(test_message))\n"
   ]
  }
 ],
 "metadata": {
  "kernelspec": {
   "display_name": ".venv",
   "language": "python",
   "name": "python3"
  },
  "language_info": {
   "codemirror_mode": {
    "name": "ipython",
    "version": 3
   },
   "file_extension": ".py",
   "mimetype": "text/x-python",
   "name": "python",
   "nbconvert_exporter": "python",
   "pygments_lexer": "ipython3",
   "version": "3.9.6"
  }
 },
 "nbformat": 4,
 "nbformat_minor": 5
}
